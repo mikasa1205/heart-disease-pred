{
 "cells": [
  {
   "cell_type": "code",
   "execution_count": 1,
   "id": "valued-nursery",
   "metadata": {
    "execution": {
     "iopub.execute_input": "2021-05-13T14:39:27.121371Z",
     "iopub.status.busy": "2021-05-13T14:39:27.119855Z",
     "iopub.status.idle": "2021-05-13T14:39:28.404273Z",
     "shell.execute_reply": "2021-05-13T14:39:28.403648Z"
    },
    "papermill": {
     "duration": 1.321232,
     "end_time": "2021-05-13T14:39:28.404428",
     "exception": false,
     "start_time": "2021-05-13T14:39:27.083196",
     "status": "completed"
    },
    "tags": []
   },
   "outputs": [],
   "source": [
    "import seaborn as sns\n",
    "import matplotlib.pyplot as plt\n",
    "import warnings\n",
    "import numpy as np \n",
    "import pandas as pd \n",
    "warnings.filterwarnings('ignore')\n",
    "\n",
    "from sklearn.linear_model import LogisticRegression\n",
    "from sklearn.neighbors import KNeighborsClassifier\n",
    "from sklearn.naive_bayes import GaussianNB,BernoulliNB\n",
    "from sklearn.svm import SVC\n",
    "from sklearn.tree import DecisionTreeClassifier\n",
    "from sklearn.ensemble import RandomForestClassifier, GradientBoostingClassifier\n",
    "from xgboost import XGBClassifier\n",
    "from sklearn.ensemble import AdaBoostClassifier\n",
    "\n",
    "from sklearn.metrics import accuracy_score,confusion_matrix\n",
    "from sklearn.model_selection import cross_val_score\n",
    "from sklearn.model_selection import GridSearchCV\n",
    "from sklearn.model_selection import train_test_split\n",
    "\n",
    "from imblearn.over_sampling import SMOTE\n",
    "from sklearn.compose import ColumnTransformer\n",
    "from sklearn.preprocessing import OneHotEncoder\n",
    "from sklearn.preprocessing import LabelEncoder"
   ]
  },
  {
   "cell_type": "code",
   "execution_count": 2,
   "id": "connected-teens",
   "metadata": {
    "execution": {
     "iopub.execute_input": "2021-05-13T14:39:28.530484Z",
     "iopub.status.busy": "2021-05-13T14:39:28.529884Z",
     "iopub.status.idle": "2021-05-13T14:39:28.572833Z",
     "shell.execute_reply": "2021-05-13T14:39:28.573238Z"
    },
    "papermill": {
     "duration": 0.078843,
     "end_time": "2021-05-13T14:39:28.573385",
     "exception": false,
     "start_time": "2021-05-13T14:39:28.494542",
     "status": "completed"
    },
    "tags": []
   },
   "outputs": [
    {
     "data": {
      "text/html": [
       "<div>\n",
       "<style scoped>\n",
       "    .dataframe tbody tr th:only-of-type {\n",
       "        vertical-align: middle;\n",
       "    }\n",
       "\n",
       "    .dataframe tbody tr th {\n",
       "        vertical-align: top;\n",
       "    }\n",
       "\n",
       "    .dataframe thead th {\n",
       "        text-align: right;\n",
       "    }\n",
       "</style>\n",
       "<table border=\"1\" class=\"dataframe\">\n",
       "  <thead>\n",
       "    <tr style=\"text-align: right;\">\n",
       "      <th></th>\n",
       "      <th>id</th>\n",
       "      <th>gender</th>\n",
       "      <th>age</th>\n",
       "      <th>hypertension</th>\n",
       "      <th>heart_disease</th>\n",
       "      <th>ever_married</th>\n",
       "      <th>work_type</th>\n",
       "      <th>Residence_type</th>\n",
       "      <th>avg_glucose_level</th>\n",
       "      <th>bmi</th>\n",
       "      <th>smoking_status</th>\n",
       "      <th>stroke</th>\n",
       "    </tr>\n",
       "  </thead>\n",
       "  <tbody>\n",
       "    <tr>\n",
       "      <th>0</th>\n",
       "      <td>9046</td>\n",
       "      <td>Male</td>\n",
       "      <td>67.0</td>\n",
       "      <td>0</td>\n",
       "      <td>1</td>\n",
       "      <td>Yes</td>\n",
       "      <td>Private</td>\n",
       "      <td>Urban</td>\n",
       "      <td>228.69</td>\n",
       "      <td>36.6</td>\n",
       "      <td>formerly smoked</td>\n",
       "      <td>1</td>\n",
       "    </tr>\n",
       "    <tr>\n",
       "      <th>1</th>\n",
       "      <td>51676</td>\n",
       "      <td>Female</td>\n",
       "      <td>61.0</td>\n",
       "      <td>0</td>\n",
       "      <td>0</td>\n",
       "      <td>Yes</td>\n",
       "      <td>Self-employed</td>\n",
       "      <td>Rural</td>\n",
       "      <td>202.21</td>\n",
       "      <td>NaN</td>\n",
       "      <td>never smoked</td>\n",
       "      <td>1</td>\n",
       "    </tr>\n",
       "    <tr>\n",
       "      <th>2</th>\n",
       "      <td>31112</td>\n",
       "      <td>Male</td>\n",
       "      <td>80.0</td>\n",
       "      <td>0</td>\n",
       "      <td>1</td>\n",
       "      <td>Yes</td>\n",
       "      <td>Private</td>\n",
       "      <td>Rural</td>\n",
       "      <td>105.92</td>\n",
       "      <td>32.5</td>\n",
       "      <td>never smoked</td>\n",
       "      <td>1</td>\n",
       "    </tr>\n",
       "    <tr>\n",
       "      <th>3</th>\n",
       "      <td>60182</td>\n",
       "      <td>Female</td>\n",
       "      <td>49.0</td>\n",
       "      <td>0</td>\n",
       "      <td>0</td>\n",
       "      <td>Yes</td>\n",
       "      <td>Private</td>\n",
       "      <td>Urban</td>\n",
       "      <td>171.23</td>\n",
       "      <td>34.4</td>\n",
       "      <td>smokes</td>\n",
       "      <td>1</td>\n",
       "    </tr>\n",
       "    <tr>\n",
       "      <th>4</th>\n",
       "      <td>1665</td>\n",
       "      <td>Female</td>\n",
       "      <td>79.0</td>\n",
       "      <td>1</td>\n",
       "      <td>0</td>\n",
       "      <td>Yes</td>\n",
       "      <td>Self-employed</td>\n",
       "      <td>Rural</td>\n",
       "      <td>174.12</td>\n",
       "      <td>24.0</td>\n",
       "      <td>never smoked</td>\n",
       "      <td>1</td>\n",
       "    </tr>\n",
       "  </tbody>\n",
       "</table>\n",
       "</div>"
      ],
      "text/plain": [
       "      id  gender   age  hypertension  heart_disease ever_married  \\\n",
       "0   9046    Male  67.0             0              1          Yes   \n",
       "1  51676  Female  61.0             0              0          Yes   \n",
       "2  31112    Male  80.0             0              1          Yes   \n",
       "3  60182  Female  49.0             0              0          Yes   \n",
       "4   1665  Female  79.0             1              0          Yes   \n",
       "\n",
       "       work_type Residence_type  avg_glucose_level   bmi   smoking_status  \\\n",
       "0        Private          Urban             228.69  36.6  formerly smoked   \n",
       "1  Self-employed          Rural             202.21   NaN     never smoked   \n",
       "2        Private          Rural             105.92  32.5     never smoked   \n",
       "3        Private          Urban             171.23  34.4           smokes   \n",
       "4  Self-employed          Rural             174.12  24.0     never smoked   \n",
       "\n",
       "   stroke  \n",
       "0       1  \n",
       "1       1  \n",
       "2       1  \n",
       "3       1  \n",
       "4       1  "
      ]
     },
     "execution_count": 2,
     "metadata": {},
     "output_type": "execute_result"
    }
   ],
   "source": [
    "df = pd.read_csv(r'C:\\Users\\ADITH SREE RAM\\Desktop\\research\\data\\stroke.csv', sep = ',')\n",
    "df.head()"
   ]
  },
  {
   "cell_type": "code",
   "execution_count": 3,
   "id": "figured-explanation",
   "metadata": {
    "execution": {
     "iopub.execute_input": "2021-05-13T14:39:28.641152Z",
     "iopub.status.busy": "2021-05-13T14:39:28.640341Z",
     "iopub.status.idle": "2021-05-13T14:39:28.653538Z",
     "shell.execute_reply": "2021-05-13T14:39:28.652954Z"
    },
    "papermill": {
     "duration": 0.050498,
     "end_time": "2021-05-13T14:39:28.653696",
     "exception": false,
     "start_time": "2021-05-13T14:39:28.603198",
     "status": "completed"
    },
    "tags": []
   },
   "outputs": [
    {
     "name": "stdout",
     "output_type": "stream",
     "text": [
      "<class 'pandas.core.frame.DataFrame'>\n",
      "RangeIndex: 5110 entries, 0 to 5109\n",
      "Data columns (total 12 columns):\n",
      " #   Column             Non-Null Count  Dtype  \n",
      "---  ------             --------------  -----  \n",
      " 0   id                 5110 non-null   int64  \n",
      " 1   gender             5110 non-null   object \n",
      " 2   age                5110 non-null   float64\n",
      " 3   hypertension       5110 non-null   int64  \n",
      " 4   heart_disease      5110 non-null   int64  \n",
      " 5   ever_married       5110 non-null   object \n",
      " 6   work_type          5110 non-null   object \n",
      " 7   Residence_type     5110 non-null   object \n",
      " 8   avg_glucose_level  5110 non-null   float64\n",
      " 9   bmi                4909 non-null   float64\n",
      " 10  smoking_status     5110 non-null   object \n",
      " 11  stroke             5110 non-null   int64  \n",
      "dtypes: float64(3), int64(4), object(5)\n",
      "memory usage: 479.2+ KB\n"
     ]
    }
   ],
   "source": [
    "df.info()"
   ]
  },
  {
   "cell_type": "code",
   "execution_count": 4,
   "id": "optimum-strand",
   "metadata": {
    "execution": {
     "iopub.execute_input": "2021-05-13T14:39:28.781375Z",
     "iopub.status.busy": "2021-05-13T14:39:28.780577Z",
     "iopub.status.idle": "2021-05-13T14:39:28.785933Z",
     "shell.execute_reply": "2021-05-13T14:39:28.786354Z"
    },
    "papermill": {
     "duration": 0.042217,
     "end_time": "2021-05-13T14:39:28.786479",
     "exception": false,
     "start_time": "2021-05-13T14:39:28.744262",
     "status": "completed"
    },
    "tags": []
   },
   "outputs": [
    {
     "data": {
      "text/plain": [
       "id                     0\n",
       "gender                 0\n",
       "age                    0\n",
       "hypertension           0\n",
       "heart_disease          0\n",
       "ever_married           0\n",
       "work_type              0\n",
       "Residence_type         0\n",
       "avg_glucose_level      0\n",
       "bmi                  201\n",
       "smoking_status         0\n",
       "stroke                 0\n",
       "dtype: int64"
      ]
     },
     "execution_count": 4,
     "metadata": {},
     "output_type": "execute_result"
    }
   ],
   "source": [
    "df.isnull().sum()"
   ]
  },
  {
   "cell_type": "code",
   "execution_count": 5,
   "id": "eight-authorization",
   "metadata": {
    "execution": {
     "iopub.execute_input": "2021-05-13T14:39:31.715819Z",
     "iopub.status.busy": "2021-05-13T14:39:31.715315Z",
     "iopub.status.idle": "2021-05-13T14:39:31.718875Z",
     "shell.execute_reply": "2021-05-13T14:39:31.719278Z"
    },
    "papermill": {
     "duration": 0.042944,
     "end_time": "2021-05-13T14:39:31.719414",
     "exception": false,
     "start_time": "2021-05-13T14:39:31.676470",
     "status": "completed"
    },
    "tags": []
   },
   "outputs": [],
   "source": [
    "df.bmi.replace(to_replace=np.nan, value=df.bmi.mean(),inplace=True)"
   ]
  },
  {
   "cell_type": "code",
   "execution_count": 6,
   "id": "restricted-twenty",
   "metadata": {
    "execution": {
     "iopub.execute_input": "2021-05-13T14:39:31.794743Z",
     "iopub.status.busy": "2021-05-13T14:39:31.794054Z",
     "iopub.status.idle": "2021-05-13T14:39:31.821159Z",
     "shell.execute_reply": "2021-05-13T14:39:31.821568Z"
    },
    "papermill": {
     "duration": 0.068472,
     "end_time": "2021-05-13T14:39:31.821706",
     "exception": false,
     "start_time": "2021-05-13T14:39:31.753234",
     "status": "completed"
    },
    "tags": []
   },
   "outputs": [
    {
     "data": {
      "text/html": [
       "<div>\n",
       "<style scoped>\n",
       "    .dataframe tbody tr th:only-of-type {\n",
       "        vertical-align: middle;\n",
       "    }\n",
       "\n",
       "    .dataframe tbody tr th {\n",
       "        vertical-align: top;\n",
       "    }\n",
       "\n",
       "    .dataframe thead th {\n",
       "        text-align: right;\n",
       "    }\n",
       "</style>\n",
       "<table border=\"1\" class=\"dataframe\">\n",
       "  <thead>\n",
       "    <tr style=\"text-align: right;\">\n",
       "      <th></th>\n",
       "      <th>id</th>\n",
       "      <th>age</th>\n",
       "      <th>hypertension</th>\n",
       "      <th>heart_disease</th>\n",
       "      <th>avg_glucose_level</th>\n",
       "      <th>bmi</th>\n",
       "      <th>stroke</th>\n",
       "    </tr>\n",
       "  </thead>\n",
       "  <tbody>\n",
       "    <tr>\n",
       "      <th>count</th>\n",
       "      <td>5110.000000</td>\n",
       "      <td>5110.000000</td>\n",
       "      <td>5110.000000</td>\n",
       "      <td>5110.000000</td>\n",
       "      <td>5110.000000</td>\n",
       "      <td>5110.000000</td>\n",
       "      <td>5110.000000</td>\n",
       "    </tr>\n",
       "    <tr>\n",
       "      <th>mean</th>\n",
       "      <td>36517.829354</td>\n",
       "      <td>43.226614</td>\n",
       "      <td>0.097456</td>\n",
       "      <td>0.054012</td>\n",
       "      <td>106.147677</td>\n",
       "      <td>28.893237</td>\n",
       "      <td>0.048728</td>\n",
       "    </tr>\n",
       "    <tr>\n",
       "      <th>std</th>\n",
       "      <td>21161.721625</td>\n",
       "      <td>22.612647</td>\n",
       "      <td>0.296607</td>\n",
       "      <td>0.226063</td>\n",
       "      <td>45.283560</td>\n",
       "      <td>7.698018</td>\n",
       "      <td>0.215320</td>\n",
       "    </tr>\n",
       "    <tr>\n",
       "      <th>min</th>\n",
       "      <td>67.000000</td>\n",
       "      <td>0.080000</td>\n",
       "      <td>0.000000</td>\n",
       "      <td>0.000000</td>\n",
       "      <td>55.120000</td>\n",
       "      <td>10.300000</td>\n",
       "      <td>0.000000</td>\n",
       "    </tr>\n",
       "    <tr>\n",
       "      <th>25%</th>\n",
       "      <td>17741.250000</td>\n",
       "      <td>25.000000</td>\n",
       "      <td>0.000000</td>\n",
       "      <td>0.000000</td>\n",
       "      <td>77.245000</td>\n",
       "      <td>23.800000</td>\n",
       "      <td>0.000000</td>\n",
       "    </tr>\n",
       "    <tr>\n",
       "      <th>50%</th>\n",
       "      <td>36932.000000</td>\n",
       "      <td>45.000000</td>\n",
       "      <td>0.000000</td>\n",
       "      <td>0.000000</td>\n",
       "      <td>91.885000</td>\n",
       "      <td>28.400000</td>\n",
       "      <td>0.000000</td>\n",
       "    </tr>\n",
       "    <tr>\n",
       "      <th>75%</th>\n",
       "      <td>54682.000000</td>\n",
       "      <td>61.000000</td>\n",
       "      <td>0.000000</td>\n",
       "      <td>0.000000</td>\n",
       "      <td>114.090000</td>\n",
       "      <td>32.800000</td>\n",
       "      <td>0.000000</td>\n",
       "    </tr>\n",
       "    <tr>\n",
       "      <th>max</th>\n",
       "      <td>72940.000000</td>\n",
       "      <td>82.000000</td>\n",
       "      <td>1.000000</td>\n",
       "      <td>1.000000</td>\n",
       "      <td>271.740000</td>\n",
       "      <td>97.600000</td>\n",
       "      <td>1.000000</td>\n",
       "    </tr>\n",
       "  </tbody>\n",
       "</table>\n",
       "</div>"
      ],
      "text/plain": [
       "                 id          age  hypertension  heart_disease  \\\n",
       "count   5110.000000  5110.000000   5110.000000    5110.000000   \n",
       "mean   36517.829354    43.226614      0.097456       0.054012   \n",
       "std    21161.721625    22.612647      0.296607       0.226063   \n",
       "min       67.000000     0.080000      0.000000       0.000000   \n",
       "25%    17741.250000    25.000000      0.000000       0.000000   \n",
       "50%    36932.000000    45.000000      0.000000       0.000000   \n",
       "75%    54682.000000    61.000000      0.000000       0.000000   \n",
       "max    72940.000000    82.000000      1.000000       1.000000   \n",
       "\n",
       "       avg_glucose_level          bmi       stroke  \n",
       "count        5110.000000  5110.000000  5110.000000  \n",
       "mean          106.147677    28.893237     0.048728  \n",
       "std            45.283560     7.698018     0.215320  \n",
       "min            55.120000    10.300000     0.000000  \n",
       "25%            77.245000    23.800000     0.000000  \n",
       "50%            91.885000    28.400000     0.000000  \n",
       "75%           114.090000    32.800000     0.000000  \n",
       "max           271.740000    97.600000     1.000000  "
      ]
     },
     "execution_count": 6,
     "metadata": {},
     "output_type": "execute_result"
    }
   ],
   "source": [
    "df.describe()"
   ]
  },
  {
   "cell_type": "code",
   "execution_count": 7,
   "id": "suspended-trading",
   "metadata": {
    "execution": {
     "iopub.execute_input": "2021-05-13T14:39:32.036225Z",
     "iopub.status.busy": "2021-05-13T14:39:32.035646Z",
     "iopub.status.idle": "2021-05-13T14:39:32.332237Z",
     "shell.execute_reply": "2021-05-13T14:39:32.332641Z"
    },
    "papermill": {
     "duration": 0.337225,
     "end_time": "2021-05-13T14:39:32.332795",
     "exception": false,
     "start_time": "2021-05-13T14:39:31.995570",
     "status": "completed"
    },
    "tags": []
   },
   "outputs": [
    {
     "data": {
      "text/plain": [
       "<Axes: >"
      ]
     },
     "execution_count": 7,
     "metadata": {},
     "output_type": "execute_result"
    },
    {
     "data": {
      "image/png": "[encoded data removed]",
      "text/plain": [
       "<Figure size 640x480 with 2 Axes>"
      ]
     },
     "metadata": {},
     "output_type": "display_data"
    }
   ],
   "source": [
    "corr = df.corr()\n",
    "\n",
    "sns.heatmap(corr)"
   ]
  },
  {
   "cell_type": "code",
   "execution_count": 8,
   "id": "boring-scroll",
   "metadata": {
    "execution": {
     "iopub.execute_input": "2021-05-13T14:39:47.229135Z",
     "iopub.status.busy": "2021-05-13T14:39:47.228228Z",
     "iopub.status.idle": "2021-05-13T14:39:47.231970Z",
     "shell.execute_reply": "2021-05-13T14:39:47.232468Z"
    },
    "papermill": {
     "duration": 0.094937,
     "end_time": "2021-05-13T14:39:47.232624",
     "exception": false,
     "start_time": "2021-05-13T14:39:47.137687",
     "status": "completed"
    },
    "tags": []
   },
   "outputs": [
    {
     "data": {
      "text/html": [
       "<div>\n",
       "<style scoped>\n",
       "    .dataframe tbody tr th:only-of-type {\n",
       "        vertical-align: middle;\n",
       "    }\n",
       "\n",
       "    .dataframe tbody tr th {\n",
       "        vertical-align: top;\n",
       "    }\n",
       "\n",
       "    .dataframe thead th {\n",
       "        text-align: right;\n",
       "    }\n",
       "</style>\n",
       "<table border=\"1\" class=\"dataframe\">\n",
       "  <thead>\n",
       "    <tr style=\"text-align: right;\">\n",
       "      <th></th>\n",
       "      <th>id</th>\n",
       "      <th>gender</th>\n",
       "      <th>age</th>\n",
       "      <th>hypertension</th>\n",
       "      <th>heart_disease</th>\n",
       "      <th>ever_married</th>\n",
       "      <th>work_type</th>\n",
       "      <th>Residence_type</th>\n",
       "      <th>avg_glucose_level</th>\n",
       "      <th>bmi</th>\n",
       "      <th>smoking_status</th>\n",
       "      <th>stroke</th>\n",
       "    </tr>\n",
       "  </thead>\n",
       "  <tbody>\n",
       "    <tr>\n",
       "      <th>0</th>\n",
       "      <td>9046</td>\n",
       "      <td>Male</td>\n",
       "      <td>67.0</td>\n",
       "      <td>0</td>\n",
       "      <td>1</td>\n",
       "      <td>Yes</td>\n",
       "      <td>Private</td>\n",
       "      <td>Urban</td>\n",
       "      <td>228.69</td>\n",
       "      <td>36.600000</td>\n",
       "      <td>formerly smoked</td>\n",
       "      <td>1</td>\n",
       "    </tr>\n",
       "    <tr>\n",
       "      <th>1</th>\n",
       "      <td>51676</td>\n",
       "      <td>Female</td>\n",
       "      <td>61.0</td>\n",
       "      <td>0</td>\n",
       "      <td>0</td>\n",
       "      <td>Yes</td>\n",
       "      <td>Self-employed</td>\n",
       "      <td>Rural</td>\n",
       "      <td>202.21</td>\n",
       "      <td>28.893237</td>\n",
       "      <td>never smoked</td>\n",
       "      <td>1</td>\n",
       "    </tr>\n",
       "    <tr>\n",
       "      <th>2</th>\n",
       "      <td>31112</td>\n",
       "      <td>Male</td>\n",
       "      <td>80.0</td>\n",
       "      <td>0</td>\n",
       "      <td>1</td>\n",
       "      <td>Yes</td>\n",
       "      <td>Private</td>\n",
       "      <td>Rural</td>\n",
       "      <td>105.92</td>\n",
       "      <td>32.500000</td>\n",
       "      <td>never smoked</td>\n",
       "      <td>1</td>\n",
       "    </tr>\n",
       "    <tr>\n",
       "      <th>3</th>\n",
       "      <td>60182</td>\n",
       "      <td>Female</td>\n",
       "      <td>49.0</td>\n",
       "      <td>0</td>\n",
       "      <td>0</td>\n",
       "      <td>Yes</td>\n",
       "      <td>Private</td>\n",
       "      <td>Urban</td>\n",
       "      <td>171.23</td>\n",
       "      <td>34.400000</td>\n",
       "      <td>smokes</td>\n",
       "      <td>1</td>\n",
       "    </tr>\n",
       "    <tr>\n",
       "      <th>4</th>\n",
       "      <td>1665</td>\n",
       "      <td>Female</td>\n",
       "      <td>79.0</td>\n",
       "      <td>1</td>\n",
       "      <td>0</td>\n",
       "      <td>Yes</td>\n",
       "      <td>Self-employed</td>\n",
       "      <td>Rural</td>\n",
       "      <td>174.12</td>\n",
       "      <td>24.000000</td>\n",
       "      <td>never smoked</td>\n",
       "      <td>1</td>\n",
       "    </tr>\n",
       "  </tbody>\n",
       "</table>\n",
       "</div>"
      ],
      "text/plain": [
       "      id  gender   age  hypertension  heart_disease ever_married  \\\n",
       "0   9046    Male  67.0             0              1          Yes   \n",
       "1  51676  Female  61.0             0              0          Yes   \n",
       "2  31112    Male  80.0             0              1          Yes   \n",
       "3  60182  Female  49.0             0              0          Yes   \n",
       "4   1665  Female  79.0             1              0          Yes   \n",
       "\n",
       "       work_type Residence_type  avg_glucose_level        bmi  \\\n",
       "0        Private          Urban             228.69  36.600000   \n",
       "1  Self-employed          Rural             202.21  28.893237   \n",
       "2        Private          Rural             105.92  32.500000   \n",
       "3        Private          Urban             171.23  34.400000   \n",
       "4  Self-employed          Rural             174.12  24.000000   \n",
       "\n",
       "    smoking_status  stroke  \n",
       "0  formerly smoked       1  \n",
       "1     never smoked       1  \n",
       "2     never smoked       1  \n",
       "3           smokes       1  \n",
       "4     never smoked       1  "
      ]
     },
     "execution_count": 8,
     "metadata": {},
     "output_type": "execute_result"
    }
   ],
   "source": [
    "df.head()"
   ]
  },
  {
   "cell_type": "code",
   "execution_count": 9,
   "id": "cbb9c109",
   "metadata": {},
   "outputs": [
    {
     "name": "stdout",
     "output_type": "stream",
     "text": [
      "['Private' 'Self-employed' 'Govt_job' 'children' 'Never_worked']\n",
      "['formerly smoked' 'never smoked' 'smokes' 'Unknown']\n"
     ]
    }
   ],
   "source": [
    "print(df['work_type'].unique())\n",
    "print(df['smoking_status'].unique())"
   ]
  },
  {
   "cell_type": "code",
   "execution_count": 10,
   "id": "terminal-hearts",
   "metadata": {
    "execution": {
     "iopub.execute_input": "2021-05-13T14:39:47.561771Z",
     "iopub.status.busy": "2021-05-13T14:39:47.560908Z",
     "iopub.status.idle": "2021-05-13T14:39:47.563461Z",
     "shell.execute_reply": "2021-05-13T14:39:47.563047Z"
    },
    "papermill": {
     "duration": 0.096571,
     "end_time": "2021-05-13T14:39:47.563573",
     "exception": false,
     "start_time": "2021-05-13T14:39:47.467002",
     "status": "completed"
    },
    "tags": []
   },
   "outputs": [],
   "source": [
    "le = LabelEncoder()\n",
    "df['gender'] = le.fit_transform(df['gender'])\n",
    "df['ever_married'] = le.fit_transform(df['ever_married'])\n",
    "df['work_type'] = le.fit_transform(df['work_type'])\n",
    "df['Residence_type'] = le.fit_transform(df['Residence_type'])\n",
    "df['smoking_status'] = le.fit_transform(df['smoking_status'])"
   ]
  },
  {
   "cell_type": "code",
   "execution_count": 11,
   "id": "2f5c5a86",
   "metadata": {},
   "outputs": [
    {
     "data": {
      "text/html": [
       "<div>\n",
       "<style scoped>\n",
       "    .dataframe tbody tr th:only-of-type {\n",
       "        vertical-align: middle;\n",
       "    }\n",
       "\n",
       "    .dataframe tbody tr th {\n",
       "        vertical-align: top;\n",
       "    }\n",
       "\n",
       "    .dataframe thead th {\n",
       "        text-align: right;\n",
       "    }\n",
       "</style>\n",
       "<table border=\"1\" class=\"dataframe\">\n",
       "  <thead>\n",
       "    <tr style=\"text-align: right;\">\n",
       "      <th></th>\n",
       "      <th>id</th>\n",
       "      <th>gender</th>\n",
       "      <th>age</th>\n",
       "      <th>hypertension</th>\n",
       "      <th>heart_disease</th>\n",
       "      <th>ever_married</th>\n",
       "      <th>work_type</th>\n",
       "      <th>Residence_type</th>\n",
       "      <th>avg_glucose_level</th>\n",
       "      <th>bmi</th>\n",
       "      <th>smoking_status</th>\n",
       "      <th>stroke</th>\n",
       "    </tr>\n",
       "  </thead>\n",
       "  <tbody>\n",
       "    <tr>\n",
       "      <th>0</th>\n",
       "      <td>9046</td>\n",
       "      <td>1</td>\n",
       "      <td>67.0</td>\n",
       "      <td>0</td>\n",
       "      <td>1</td>\n",
       "      <td>1</td>\n",
       "      <td>2</td>\n",
       "      <td>1</td>\n",
       "      <td>228.69</td>\n",
       "      <td>36.600000</td>\n",
       "      <td>1</td>\n",
       "      <td>1</td>\n",
       "    </tr>\n",
       "    <tr>\n",
       "      <th>1</th>\n",
       "      <td>51676</td>\n",
       "      <td>0</td>\n",
       "      <td>61.0</td>\n",
       "      <td>0</td>\n",
       "      <td>0</td>\n",
       "      <td>1</td>\n",
       "      <td>3</td>\n",
       "      <td>0</td>\n",
       "      <td>202.21</td>\n",
       "      <td>28.893237</td>\n",
       "      <td>2</td>\n",
       "      <td>1</td>\n",
       "    </tr>\n",
       "    <tr>\n",
       "      <th>2</th>\n",
       "      <td>31112</td>\n",
       "      <td>1</td>\n",
       "      <td>80.0</td>\n",
       "      <td>0</td>\n",
       "      <td>1</td>\n",
       "      <td>1</td>\n",
       "      <td>2</td>\n",
       "      <td>0</td>\n",
       "      <td>105.92</td>\n",
       "      <td>32.500000</td>\n",
       "      <td>2</td>\n",
       "      <td>1</td>\n",
       "    </tr>\n",
       "    <tr>\n",
       "      <th>3</th>\n",
       "      <td>60182</td>\n",
       "      <td>0</td>\n",
       "      <td>49.0</td>\n",
       "      <td>0</td>\n",
       "      <td>0</td>\n",
       "      <td>1</td>\n",
       "      <td>2</td>\n",
       "      <td>1</td>\n",
       "      <td>171.23</td>\n",
       "      <td>34.400000</td>\n",
       "      <td>3</td>\n",
       "      <td>1</td>\n",
       "    </tr>\n",
       "    <tr>\n",
       "      <th>4</th>\n",
       "      <td>1665</td>\n",
       "      <td>0</td>\n",
       "      <td>79.0</td>\n",
       "      <td>1</td>\n",
       "      <td>0</td>\n",
       "      <td>1</td>\n",
       "      <td>3</td>\n",
       "      <td>0</td>\n",
       "      <td>174.12</td>\n",
       "      <td>24.000000</td>\n",
       "      <td>2</td>\n",
       "      <td>1</td>\n",
       "    </tr>\n",
       "  </tbody>\n",
       "</table>\n",
       "</div>"
      ],
      "text/plain": [
       "      id  gender   age  hypertension  heart_disease  ever_married  work_type  \\\n",
       "0   9046       1  67.0             0              1             1          2   \n",
       "1  51676       0  61.0             0              0             1          3   \n",
       "2  31112       1  80.0             0              1             1          2   \n",
       "3  60182       0  49.0             0              0             1          2   \n",
       "4   1665       0  79.0             1              0             1          3   \n",
       "\n",
       "   Residence_type  avg_glucose_level        bmi  smoking_status  stroke  \n",
       "0               1             228.69  36.600000               1       1  \n",
       "1               0             202.21  28.893237               2       1  \n",
       "2               0             105.92  32.500000               2       1  \n",
       "3               1             171.23  34.400000               3       1  \n",
       "4               0             174.12  24.000000               2       1  "
      ]
     },
     "execution_count": 11,
     "metadata": {},
     "output_type": "execute_result"
    }
   ],
   "source": [
    "df.head()"
   ]
  },
  {
   "cell_type": "code",
   "execution_count": 12,
   "id": "fb0a9808",
   "metadata": {},
   "outputs": [
    {
     "name": "stdout",
     "output_type": "stream",
     "text": [
      "[2 3 0 4 1]\n",
      "[1 2 3 0]\n"
     ]
    }
   ],
   "source": [
    "print(df['work_type'].unique())\n",
    "print(df['smoking_status'].unique())"
   ]
  },
  {
   "cell_type": "code",
   "execution_count": 13,
   "id": "cellular-accommodation",
   "metadata": {
    "execution": {
     "iopub.execute_input": "2021-05-13T14:39:47.873047Z",
     "iopub.status.busy": "2021-05-13T14:39:47.872206Z",
     "iopub.status.idle": "2021-05-13T14:39:47.877145Z",
     "shell.execute_reply": "2021-05-13T14:39:47.877729Z"
    },
    "papermill": {
     "duration": 0.086899,
     "end_time": "2021-05-13T14:39:47.877921",
     "exception": false,
     "start_time": "2021-05-13T14:39:47.791022",
     "status": "completed"
    },
    "tags": []
   },
   "outputs": [
    {
     "name": "stdout",
     "output_type": "stream",
     "text": [
      "X Shape (5110, 10)\n",
      "Y Shape (5110,)\n"
     ]
    }
   ],
   "source": [
    "x = df.iloc[:,1:-1].values\n",
    "y = df.iloc[:,-1].values\n",
    "\n",
    "print('X Shape', x.shape)\n",
    "print('Y Shape',y.shape)"
   ]
  },
  {
   "cell_type": "code",
   "execution_count": 14,
   "id": "improving-consent",
   "metadata": {
    "execution": {
     "iopub.execute_input": "2021-05-13T14:39:48.203431Z",
     "iopub.status.busy": "2021-05-13T14:39:48.202636Z",
     "iopub.status.idle": "2021-05-13T14:39:48.208430Z",
     "shell.execute_reply": "2021-05-13T14:39:48.208030Z"
    },
    "papermill": {
     "duration": 0.08791,
     "end_time": "2021-05-13T14:39:48.208541",
     "exception": false,
     "start_time": "2021-05-13T14:39:48.120631",
     "status": "completed"
    },
    "tags": []
   },
   "outputs": [],
   "source": [
    "#ct = ColumnTransformer(transformers=[('encoder',OneHotEncoder(),[0,5,9])],remainder='passthrough')\n",
    "#x = np.array(ct.fit_transform(x))"
   ]
  },
  {
   "cell_type": "code",
   "execution_count": 15,
   "id": "elder-shelter",
   "metadata": {
    "execution": {
     "iopub.execute_input": "2021-05-13T14:39:48.518688Z",
     "iopub.status.busy": "2021-05-13T14:39:48.517855Z",
     "iopub.status.idle": "2021-05-13T14:39:48.523203Z",
     "shell.execute_reply": "2021-05-13T14:39:48.523618Z"
    },
    "papermill": {
     "duration": 0.087534,
     "end_time": "2021-05-13T14:39:48.523753",
     "exception": false,
     "start_time": "2021-05-13T14:39:48.436219",
     "status": "completed"
    },
    "tags": []
   },
   "outputs": [
    {
     "name": "stdout",
     "output_type": "stream",
     "text": [
      "Number transations x_train df (4088, 10)\n",
      "Number transations x_test df (1022, 10)\n",
      "Number transations y_train df (4088,)\n",
      "Number transations y_test df (1022,)\n"
     ]
    }
   ],
   "source": [
    "X_train,X_test,y_train,y_test = train_test_split(x,y,test_size=0.2,random_state=0)\n",
    "\n",
    "print('Number transations x_train df',X_train.shape)\n",
    "print('Number transations x_test df',X_test.shape)\n",
    "print('Number transations y_train df',y_train.shape)\n",
    "print('Number transations y_test df',y_test.shape)"
   ]
  },
  {
   "cell_type": "code",
   "execution_count": 16,
   "id": "laughing-boulder",
   "metadata": {
    "execution": {
     "iopub.execute_input": "2021-05-13T14:39:48.862758Z",
     "iopub.status.busy": "2021-05-13T14:39:48.862025Z",
     "iopub.status.idle": "2021-05-13T14:39:48.865739Z",
     "shell.execute_reply": "2021-05-13T14:39:48.866326Z"
    },
    "papermill": {
     "duration": 0.115044,
     "end_time": "2021-05-13T14:39:48.866503",
     "exception": false,
     "start_time": "2021-05-13T14:39:48.751459",
     "status": "completed"
    },
    "tags": []
   },
   "outputs": [
    {
     "name": "stdout",
     "output_type": "stream",
     "text": [
      "Before OverSampling, counts of label 1: 195\n",
      "Before OverSampling, counts of label 0: 3893 \n",
      "\n"
     ]
    }
   ],
   "source": [
    "# SMOTE \n",
    "# pip install imblearn\n",
    "# from imblearn.over_sampling import SMOTE\n",
    "\n",
    "print('Before OverSampling, counts of label 1: {}'.format(sum(y_train==1)))\n",
    "print('Before OverSampling, counts of label 0: {} \\n'.format(sum(y_train==0)))"
   ]
  },
  {
   "cell_type": "code",
   "execution_count": 17,
   "id": "objective-church",
   "metadata": {
    "execution": {
     "iopub.execute_input": "2021-05-13T14:39:49.030698Z",
     "iopub.status.busy": "2021-05-13T14:39:49.029780Z",
     "iopub.status.idle": "2021-05-13T14:39:49.156680Z",
     "shell.execute_reply": "2021-05-13T14:39:49.157242Z"
    },
    "papermill": {
     "duration": 0.213762,
     "end_time": "2021-05-13T14:39:49.157478",
     "exception": false,
     "start_time": "2021-05-13T14:39:48.943716",
     "status": "completed"
    },
    "tags": []
   },
   "outputs": [
    {
     "name": "stdout",
     "output_type": "stream",
     "text": [
      "After OverSampling, the shape of train_x: (7786, 10)\n",
      "After OverSampling, the shape of train_y: (7786,)\n",
      "After OverSampling, counts of label 1: 3893\n",
      "After OverSampling, counts of label 0: 3893\n"
     ]
    }
   ],
   "source": [
    "sm = SMOTE(random_state=2)\n",
    "X_train_res, y_train_res = sm.fit_resample(X_train,y_train.ravel())\n",
    "\n",
    "print('After OverSampling, the shape of train_x: {}'.format(X_train_res.shape))\n",
    "print('After OverSampling, the shape of train_y: {}'.format(y_train_res.shape))\n",
    "\n",
    "print('After OverSampling, counts of label 1: {}'.format(sum(y_train_res == 1)))\n",
    "print('After OverSampling, counts of label 0: {}'.format(sum(y_train_res == 0)))"
   ]
  },
  {
   "cell_type": "code",
   "execution_count": 18,
   "id": "polished-tragedy",
   "metadata": {
    "execution": {
     "iopub.execute_input": "2021-05-13T14:39:49.486041Z",
     "iopub.status.busy": "2021-05-13T14:39:49.485189Z",
     "iopub.status.idle": "2021-05-13T14:39:49.487288Z",
     "shell.execute_reply": "2021-05-13T14:39:49.487730Z"
    },
    "papermill": {
     "duration": 0.087514,
     "end_time": "2021-05-13T14:39:49.487859",
     "exception": false,
     "start_time": "2021-05-13T14:39:49.400345",
     "status": "completed"
    },
    "tags": []
   },
   "outputs": [],
   "source": [
    "models = []\n",
    "models.append(['XGBClassifier',XGBClassifier(learning_rate=0.1,objective='binary:logistic',random_state=0,eval_metric='error')])\n",
    "models.append(['Logistic Regression',LogisticRegression(random_state=42)])\n",
    "models.append(['SVM',SVC(random_state=42)])\n",
    "models.append(['KNeigbors',KNeighborsClassifier()])\n",
    "models.append(['GaussianNB',GaussianNB()])\n",
    "models.append(['Gradient Boost',GradientBoostingClassifier(random_state=42)])\n",
    "models.append(['DecisionTree',DecisionTreeClassifier(max_depth=3, min_samples_leaf=5, criterion='entropy', min_samples_split=5,\n",
    "                                       splitter='random', random_state=1)])\n",
    "models.append(['RandomForest',RandomForestClassifier(random_state=42)])\n",
    "models.append(['AdaBoostClassifier',AdaBoostClassifier()])"
   ]
  },
  {
   "cell_type": "code",
   "execution_count": 19,
   "id": "thrown-berry",
   "metadata": {
    "execution": {
     "iopub.execute_input": "2021-05-13T14:39:49.653539Z",
     "iopub.status.busy": "2021-05-13T14:39:49.652979Z",
     "iopub.status.idle": "2021-05-13T14:40:41.749921Z",
     "shell.execute_reply": "2021-05-13T14:40:41.749478Z"
    },
    "papermill": {
     "duration": 52.184883,
     "end_time": "2021-05-13T14:40:41.750059",
     "exception": false,
     "start_time": "2021-05-13T14:39:49.565176",
     "status": "completed"
    },
    "tags": []
   },
   "outputs": [
    {
     "name": "stdout",
     "output_type": "stream",
     "text": [
      "XGBClassifier :\n",
      "[[965   3]\n",
      " [ 51   3]]\n",
      "Accuracy Score:  0.9471624266144814\n",
      "\n",
      "Logistic Regression :\n",
      "[[751 217]\n",
      " [ 16  38]]\n",
      "Accuracy Score:  0.7720156555772995\n",
      "\n",
      "SVM :\n",
      "[[693 275]\n",
      " [ 12  42]]\n",
      "Accuracy Score:  0.7191780821917808\n",
      "\n",
      "KNeigbors :\n",
      "[[806 162]\n",
      " [ 27  27]]\n",
      "Accuracy Score:  0.815068493150685\n",
      "\n",
      "GaussianNB :\n",
      "[[726 242]\n",
      " [ 15  39]]\n",
      "Accuracy Score:  0.7485322896281801\n",
      "\n",
      "Gradient Boost :\n",
      "[[957  11]\n",
      " [ 52   2]]\n",
      "Accuracy Score:  0.9383561643835616\n",
      "\n",
      "DecisionTree :\n",
      "[[708 260]\n",
      " [ 12  42]]\n",
      "Accuracy Score:  0.7338551859099804\n",
      "\n",
      "RandomForest :\n",
      "[[964   4]\n",
      " [ 52   2]]\n",
      "Accuracy Score:  0.9452054794520548\n",
      "\n",
      "AdaBoostClassifier :\n",
      "[[941  27]\n",
      " [ 47   7]]\n",
      "Accuracy Score:  0.9275929549902152\n",
      "\n"
     ]
    }
   ],
   "source": [
    "lst_1 = []\n",
    "for m in range(len(models)):\n",
    "    lst_2 = []\n",
    "    model = models[m][1]\n",
    "    model.fit(X_train_res,y_train_res)\n",
    "    y_pred = model.predict(X_test)\n",
    "    cm = confusion_matrix(y_test,y_pred)\n",
    "    accuracies = cross_val_score(estimator= model, X = X_train_res,y = y_train_res, cv=10)\n",
    "\n",
    "# k-fOLD Validation\n",
    "\n",
    "\n",
    "    print(models[m][0],':')\n",
    "    print(cm)\n",
    "    print('Accuracy Score: ',accuracy_score(y_test,y_pred))\n",
    "    print('')\n",
    "    #lst_2.append(models[m][0])\n",
    "    lst_1.append(accuracy_score(y_test,y_pred))"
   ]
  },
  {
   "cell_type": "code",
   "execution_count": 20,
   "id": "9bf902fd",
   "metadata": {},
   "outputs": [],
   "source": [
    "model = ['XGB', 'Logistic Regression', 'SVM', 'KNN', 'GNB', 'Gradient Boost', 'Desicion Tree', 'Random Forest', 'AdaBoost']"
   ]
  },
  {
   "cell_type": "code",
   "execution_count": 21,
   "id": "9c10373e",
   "metadata": {
    "scrolled": true
   },
   "outputs": [
    {
     "data": {
      "text/plain": [
       "[0.9471624266144814,\n",
       " 0.7720156555772995,\n",
       " 0.7191780821917808,\n",
       " 0.815068493150685,\n",
       " 0.7485322896281801,\n",
       " 0.9383561643835616,\n",
       " 0.7338551859099804,\n",
       " 0.9452054794520548,\n",
       " 0.9275929549902152]"
      ]
     },
     "execution_count": 21,
     "metadata": {},
     "output_type": "execute_result"
    }
   ],
   "source": [
    "lst_1"
   ]
  },
  {
   "cell_type": "code",
   "execution_count": 22,
   "id": "embedded-shakespeare",
   "metadata": {
    "execution": {
     "iopub.execute_input": "2021-05-13T14:40:41.926480Z",
     "iopub.status.busy": "2021-05-13T14:40:41.925606Z",
     "iopub.status.idle": "2021-05-13T14:40:41.929045Z",
     "shell.execute_reply": "2021-05-13T14:40:41.929469Z"
    },
    "papermill": {
     "duration": 0.099935,
     "end_time": "2021-05-13T14:40:41.929626",
     "exception": false,
     "start_time": "2021-05-13T14:40:41.829691",
     "status": "completed"
    },
    "tags": []
   },
   "outputs": [
    {
     "data": {
      "text/html": [
       "<div>\n",
       "<style scoped>\n",
       "    .dataframe tbody tr th:only-of-type {\n",
       "        vertical-align: middle;\n",
       "    }\n",
       "\n",
       "    .dataframe tbody tr th {\n",
       "        vertical-align: top;\n",
       "    }\n",
       "\n",
       "    .dataframe thead th {\n",
       "        text-align: right;\n",
       "    }\n",
       "</style>\n",
       "<table border=\"1\" class=\"dataframe\">\n",
       "  <thead>\n",
       "    <tr style=\"text-align: right;\">\n",
       "      <th></th>\n",
       "      <th>Models</th>\n",
       "      <th>Accuracy</th>\n",
       "    </tr>\n",
       "  </thead>\n",
       "  <tbody>\n",
       "    <tr>\n",
       "      <th>0</th>\n",
       "      <td>XGB</td>\n",
       "      <td>0.947162</td>\n",
       "    </tr>\n",
       "    <tr>\n",
       "      <th>7</th>\n",
       "      <td>Random Forest</td>\n",
       "      <td>0.945205</td>\n",
       "    </tr>\n",
       "    <tr>\n",
       "      <th>5</th>\n",
       "      <td>Gradient Boost</td>\n",
       "      <td>0.938356</td>\n",
       "    </tr>\n",
       "    <tr>\n",
       "      <th>8</th>\n",
       "      <td>AdaBoost</td>\n",
       "      <td>0.927593</td>\n",
       "    </tr>\n",
       "    <tr>\n",
       "      <th>3</th>\n",
       "      <td>KNN</td>\n",
       "      <td>0.815068</td>\n",
       "    </tr>\n",
       "    <tr>\n",
       "      <th>1</th>\n",
       "      <td>Logistic Regression</td>\n",
       "      <td>0.772016</td>\n",
       "    </tr>\n",
       "    <tr>\n",
       "      <th>4</th>\n",
       "      <td>GNB</td>\n",
       "      <td>0.748532</td>\n",
       "    </tr>\n",
       "    <tr>\n",
       "      <th>6</th>\n",
       "      <td>Desicion Tree</td>\n",
       "      <td>0.733855</td>\n",
       "    </tr>\n",
       "    <tr>\n",
       "      <th>2</th>\n",
       "      <td>SVM</td>\n",
       "      <td>0.719178</td>\n",
       "    </tr>\n",
       "  </tbody>\n",
       "</table>\n",
       "</div>"
      ],
      "text/plain": [
       "                Models  Accuracy\n",
       "0                  XGB  0.947162\n",
       "7        Random Forest  0.945205\n",
       "5       Gradient Boost  0.938356\n",
       "8             AdaBoost  0.927593\n",
       "3                  KNN  0.815068\n",
       "1  Logistic Regression  0.772016\n",
       "4                  GNB  0.748532\n",
       "6        Desicion Tree  0.733855\n",
       "2                  SVM  0.719178"
      ]
     },
     "execution_count": 22,
     "metadata": {},
     "output_type": "execute_result"
    }
   ],
   "source": [
    "df1 = pd.DataFrame(list(zip(model, lst_1)),\n",
    "               columns =['Models', 'Accuracy'])\n",
    "df1 = df1.sort_values(by = \"Accuracy\", ascending=False)\n",
    "df1"
   ]
  },
  {
   "cell_type": "code",
   "execution_count": 28,
   "id": "digital-hardwood",
   "metadata": {
    "execution": {
     "iopub.execute_input": "2021-05-13T14:40:42.130464Z",
     "iopub.status.busy": "2021-05-13T14:40:42.122402Z",
     "iopub.status.idle": "2021-05-13T14:40:42.288809Z",
     "shell.execute_reply": "2021-05-13T14:40:42.288396Z"
    },
    "papermill": {
     "duration": 0.279826,
     "end_time": "2021-05-13T14:40:42.288957",
     "exception": false,
     "start_time": "2021-05-13T14:40:42.009131",
     "status": "completed"
    },
    "tags": []
   },
   "outputs": [
    {
     "data": {
      "text/plain": [
       "Text(0.5, 1.0, 'Model Vs Accuracy for Stroke')"
      ]
     },
     "execution_count": 28,
     "metadata": {},
     "output_type": "execute_result"
    },
    {
     "data": {
      "image/png": "[encoded data removed]",
      "text/plain": [
       "<Figure size 1800x600 with 1 Axes>"
      ]
     },
     "metadata": {},
     "output_type": "display_data"
    }
   ],
   "source": [
    "plt.figure(figsize=(18,6))\n",
    "sns.barplot(df1, x = 'Models', y = 'Accuracy', palette = 'Blues_r')\n",
    "plt.title(\"Model Vs Accuracy for Stroke\")"
   ]
  },
  {
   "cell_type": "code",
   "execution_count": 24,
   "id": "777031b6",
   "metadata": {},
   "outputs": [
    {
     "data": {
      "text/plain": [
       "0.9442270058708415"
      ]
     },
     "execution_count": 24,
     "metadata": {},
     "output_type": "execute_result"
    }
   ],
   "source": [
    "best_model = XGBClassifier(learning_rate=0.1,objective='binary:logistic',random_state=0,eval_metric='error')\n",
    "predictor_xgb = best_model.fit(X_train, y_train)\n",
    "y_pred = predictor_xgb.predict(X_test)\n",
    "accuracy_xgb = accuracy_score(y_test, y_pred)\n",
    "accuracy_xgb"
   ]
  },
  {
   "cell_type": "code",
   "execution_count": 25,
   "id": "25bdee9a",
   "metadata": {},
   "outputs": [],
   "source": [
    "import joblib\n",
    "file = open(\"stroke_model\", \"wb\")\n",
    "joblib.dump(best_model,file)\n",
    "file.close()"
   ]
  },
  {
   "cell_type": "code",
   "execution_count": null,
   "id": "121fc6c1",
   "metadata": {},
   "outputs": [],
   "source": []
  }
 ],
 "metadata": {
  "kernelspec": {
   "display_name": "Python 3 (ipykernel)",
   "language": "python",
   "name": "python3"
  },
  "language_info": {
   "codemirror_mode": {
    "name": "ipython",
    "version": 3
   },
   "file_extension": ".py",
   "mimetype": "text/x-python",
   "name": "python",
   "nbconvert_exporter": "python",
   "pygments_lexer": "ipython3",
   "version": "3.10.9"
  },
  "papermill": {
   "default_parameters": {},
   "duration": 217.815245,
   "end_time": "2021-05-13T14:42:57.756017",
   "environment_variables": {},
   "exception": null,
   "input_path": "__notebook__.ipynb",
   "output_path": "__notebook__.ipynb",
   "parameters": {},
   "start_time": "2021-05-13T14:39:19.940772",
   "version": "2.3.3"
  }
 },
 "nbformat": 4,
 "nbformat_minor": 5
}
